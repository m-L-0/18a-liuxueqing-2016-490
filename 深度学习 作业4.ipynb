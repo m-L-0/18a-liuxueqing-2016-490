{
 "cells": [
  {
   "cell_type": "code",
   "execution_count": 10,
   "metadata": {},
   "outputs": [],
   "source": [
    "'''\n",
    "mnist数据分类\n",
    "作业\n",
    "浮现上述代码。\n",
    "计算模型参数。\n",
    "使用不同大小的批次进行实验，观察模型收敛速度与收敛平稳性。\n",
    "使用不同大小的学习率进行实验，观察模型收敛速度与收敛平稳性。\n",
    "使用不同的激活函数进行实验，观察模型收敛速度与收敛平性能。\n",
    "尝试使用不同的参数初始化方法（如使用不同的正态分布、均匀分布、固定值等方法），观察模型收敛速度。\n",
    "思考如何改进模型以使得模型性能增强。\n",
    "思考如何给模型添加新的隐藏层并进行实验。\n",
    "说明：需对上述问题进行代码实现与结论总结\n",
    "'''\n",
    "%matplotlib inline\n",
    "#可视化在notebook中显示\n",
    "\n",
    "import numpy as np\n",
    "from PIL import Image\n",
    "from matplotlib import pyplot as plt  ##使结果可视化\n",
    "\n",
    "import tensorflow as tf\n",
    "from tensorflow.examples.tutorials.mnist import input_data"
   ]
  },
  {
   "cell_type": "code",
   "execution_count": 11,
   "metadata": {},
   "outputs": [
    {
     "name": "stdout",
     "output_type": "stream",
     "text": [
      "Extracting mnist_data\\train-images-idx3-ubyte.gz\n",
      "Extracting mnist_data\\train-labels-idx1-ubyte.gz\n",
      "Extracting mnist_data\\t10k-images-idx3-ubyte.gz\n",
      "Extracting mnist_data\\t10k-labels-idx1-ubyte.gz\n"
     ]
    }
   ],
   "source": [
    "# 下载MNIST数据集并生成DataSet对象\n",
    "# 使用OneHot编码处理标记\n",
    "mnist=input_data.read_data_sets('mnist_data',one_hot=True)"
   ]
  },
  {
   "cell_type": "code",
   "execution_count": 12,
   "metadata": {},
   "outputs": [
    {
     "data": {
      "text/plain": [
       "(55000, 784)"
      ]
     },
     "execution_count": 12,
     "metadata": {},
     "output_type": "execute_result"
    }
   ],
   "source": [
    "mnist.train.images.shape"
   ]
  },
  {
   "cell_type": "code",
   "execution_count": 13,
   "metadata": {},
   "outputs": [
    {
     "data": {
      "text/plain": [
       "<matplotlib.image.AxesImage at 0x1d140f77b70>"
      ]
     },
     "execution_count": 13,
     "metadata": {},
     "output_type": "execute_result"
    },
    {
     "data": {
      "image/png": "[encoded data removed]",
      "text/plain": [
       "<Figure size 432x288 with 1 Axes>"
      ]
     },
     "metadata": {},
     "output_type": "display_data"
    }
   ],
   "source": [
    "# 可视化训练集中的图片\n",
    "plt.imshow(Image.fromarray(mnist.train.images[0].reshape(28, 28)))\n",
    "plt.imshow(Image.fromarray((mnist.train.images[0]*255).astype(np.uint8).reshape([28,28])))\n"
   ]
  },
  {
   "cell_type": "code",
   "execution_count": 14,
   "metadata": {},
   "outputs": [
    {
     "data": {
      "text/plain": [
       "array([0., 0., 0., 0., 0., 0., 0., 1., 0., 0.])"
      ]
     },
     "execution_count": 14,
     "metadata": {},
     "output_type": "execute_result"
    }
   ],
   "source": [
    "mnist.train.labels[0]"
   ]
  },
  {
   "cell_type": "code",
   "execution_count": null,
   "metadata": {},
   "outputs": [],
   "source": []
  },
  {
   "cell_type": "code",
   "execution_count": 16,
   "metadata": {},
   "outputs": [],
   "source": [
    "with tf.Graph().as_default() as g:\n",
    "    # 输入、标记占位符\n",
    "    inputs = tf.placeholder(shape=[None, 784], dtype=tf.float32)\n",
    "    labels = tf.placeholder(shape=[None, 10], dtype=tf.float32)\n",
    "    \n",
    "    \n",
    "    # 创建128个隐藏层神经元参数\n",
    "    hidden_weight = tf.Variable(tf.random_normal([784, 128]), name='hidden_weight')\n",
    "    hidden_bias = tf.Variable(tf.zeros([128, ]), name='hidden_bias')\n",
    "    # 隐藏层前向传播\n",
    "    hidden_output = tf.nn.relu(tf.matmul(inputs, hidden_weight) + hidden_bias)\n",
    "    \n",
    "    \n",
    "    # 创建输出层10个神经元参数\n",
    "    output_weight = tf.Variable(tf.random_normal([128, 10], name='output_weight'))\n",
    "    output_bias = tf.Variable(tf.zeros([10, ]), name='output_bias')\n",
    "    # 输出层前向传播\n",
    "    logits = tf.matmul(hidden_output, output_weight) + output_bias\n",
    "    output = tf.nn.softmax(logits)\n",
    "    \n",
    "    \n",
    "    # 代价函数\n",
    "    loss = tf.reduce_mean(-1 * tf.reduce_sum(\n",
    "        labels * tf.log(output + 1e-7),\n",
    "        axis=1))\n",
    "    \n",
    "    \n",
    "    # 正确率\n",
    "    acc = tf.reduce_mean(\n",
    "        tf.cast(tf.equal(tf.argmax(labels, axis=1), tf.argmax(output, axis=1)),\n",
    "                tf.float32))\n",
    "\n"
   ]
  },
  {
   "cell_type": "code",
   "execution_count": 17,
   "metadata": {},
   "outputs": [
    {
     "name": "stdout",
     "output_type": "stream",
     "text": [
      "step     0, loss 15.6668, acc 0.0863\n",
      "step   500, loss 11.0877, acc 0.2192\n",
      "step  1000, loss 10.0746, acc 0.3140\n",
      "step  1500, loss 12.0595, acc 0.3517\n",
      "step  2000, loss 8.5627, acc 0.3887\n",
      "step  2500, loss 10.0747, acc 0.4077\n",
      "step  3000, loss 8.0596, acc 0.4143\n",
      "step  3500, loss 9.2755, acc 0.4217\n",
      "step  4000, loss 11.4240, acc 0.4247\n",
      "step  4500, loss 10.5775, acc 0.4295\n",
      "step  5000, loss 9.5701, acc 0.4345\n",
      "step  5500, loss 7.6242, acc 0.4333\n",
      "step  6000, loss 8.0590, acc 0.4370\n",
      "step  6500, loss 7.5554, acc 0.4377\n",
      "step  7000, loss 9.4224, acc 0.4396\n",
      "step  7500, loss 6.7152, acc 0.4419\n",
      "step  8000, loss 8.0590, acc 0.4426\n",
      "step  8500, loss 9.5675, acc 0.4445\n",
      "step  9000, loss 9.0664, acc 0.4439\n",
      "step  9500, loss 8.0590, acc 0.4457\n",
      "step 10000, loss 7.5559, acc 0.4485\n",
      "step 10500, loss 7.0517, acc 0.4461\n",
      "step 11000, loss 8.0590, acc 0.4476\n",
      "step 11500, loss 7.5554, acc 0.4461\n",
      "step 12000, loss 8.0591, acc 0.4478\n",
      "step 12500, loss 8.0599, acc 0.4488\n",
      "step 13000, loss 8.0602, acc 0.4528\n",
      "step 13500, loss 4.5405, acc 0.4507\n",
      "step 14000, loss 9.5706, acc 0.4532\n",
      "step 14500, loss 8.5628, acc 0.4529\n",
      "step 15000, loss 11.2901, acc 0.4501\n",
      "step 15500, loss 10.0855, acc 0.4559\n",
      "step 16000, loss 8.5627, acc 0.4536\n",
      "step 16500, loss 9.5701, acc 0.4555\n",
      "step 17000, loss 7.8549, acc 0.4863\n",
      "step 17500, loss 8.0590, acc 0.5059\n",
      "step 18000, loss 7.0372, acc 0.5198\n",
      "step 18500, loss 8.4400, acc 0.5297\n",
      "step 19000, loss 6.0443, acc 0.5259\n",
      "step 19500, loss 7.0512, acc 0.5323\n"
     ]
    }
   ],
   "source": [
    "with tf.Session(graph=g) as sess:\n",
    "    # 定义梯度下降法优化器\n",
    "    optim = tf.train.GradientDescentOptimizer(learning_rate=0.01)\n",
    "    train_op = optim.minimize(loss)\n",
    "    sess.run(tf.global_variables_initializer())\n",
    "    \n",
    "    # 训练模型\n",
    "    for step in range(20000):\n",
    "        batch_images, batch_labels = mnist.train.next_batch(32)\n",
    "        res_loss, _ = sess.run([loss, train_op], feed_dict={\n",
    "            inputs: batch_images,\n",
    "            labels: batch_labels\n",
    "        })\n",
    "        \n",
    "        # 输出代价并验证模型\n",
    "        if step % 500 == 0:\n",
    "            accs = []\n",
    "            for test_step in range(10000 // 32):\n",
    "                batch_images, batch_labels = mnist.test.next_batch(32)\n",
    "                res_acc = sess.run(acc, feed_dict={\n",
    "                    inputs: batch_images,\n",
    "                    labels: batch_labels\n",
    "                })\n",
    "                accs.append(res_acc)\n",
    "            accs = np.mean(accs)\n",
    "            print('step %5d, loss %2.4f, acc %.4f' % (step, res_loss, accs))"
   ]
  },
  {
   "cell_type": "code",
   "execution_count": 18,
   "metadata": {},
   "outputs": [],
   "source": [
    "#欠完备自编码器\n",
    "%matplotlib inline\n",
    "#可视化在notebook中显示\n",
    "\n",
    "import numpy as np\n",
    "from PIL import Image\n",
    "from matplotlib import pyplot as plt  ##使结果可视化\n",
    "\n",
    "import tensorflow as tf\n",
    "from tensorflow.examples.tutorials.mnist import input_data"
   ]
  },
  {
   "cell_type": "code",
   "execution_count": 19,
   "metadata": {},
   "outputs": [
    {
     "name": "stdout",
     "output_type": "stream",
     "text": [
      "Extracting mnist_data\\train-images-idx3-ubyte.gz\n",
      "Extracting mnist_data\\train-labels-idx1-ubyte.gz\n",
      "Extracting mnist_data\\t10k-images-idx3-ubyte.gz\n",
      "Extracting mnist_data\\t10k-labels-idx1-ubyte.gz\n"
     ]
    }
   ],
   "source": [
    "# 下载MNIST数据集并生成DataSet对象\n",
    "# 使用OneHot编码处理标记\n",
    "#图片做了归一化处理\n",
    "mnist=input_data.read_data_sets('mnist_data',one_hot=True)"
   ]
  },
  {
   "cell_type": "code",
   "execution_count": 20,
   "metadata": {},
   "outputs": [
    {
     "name": "stdout",
     "output_type": "stream",
     "text": [
      "0.23212238\n"
     ]
    },
    {
     "data": {
      "image/png": "[encoded data removed]",
      "text/plain": [
       "<Figure size 432x288 with 10 Axes>"
      ]
     },
     "metadata": {},
     "output_type": "display_data"
    },
    {
     "name": "stdout",
     "output_type": "stream",
     "text": [
      "0.2280652\n"
     ]
    },
    {
     "data": {
      "image/png": "[encoded data removed]",
      "text/plain": [
       "<Figure size 432x288 with 10 Axes>"
      ]
     },
     "metadata": {},
     "output_type": "display_data"
    },
    {
     "name": "stdout",
     "output_type": "stream",
     "text": [
      "0.21897732\n"
     ]
    },
    {
     "data": {
      "image/png": "[encoded data removed]",
      "text/plain": [
       "<Figure size 432x288 with 10 Axes>"
      ]
     },
     "metadata": {},
     "output_type": "display_data"
    }
   ],
   "source": [
    "#创建神经网络模型\n",
    "with tf.Graph().as_default()as g:\n",
    "    inp_out=tf.placeholder(shape=[None,784],dtype=tf.float32)\n",
    "    h=tf.keras.layers.Dense(32,activation=tf.nn.relu)(inp_out)#隐藏层数量\n",
    "    out=tf.keras.layers.Dense(784,activation=tf.nn.sigmoid)(h)#输出层 activation=tf.nn.sigmoid是激活函数 使原实数范围内的数据收敛为（0--1）\n",
    "    loss=tf.reduce_mean(tf.keras.losses.mean_squared_error(inp_out,out))#先求差再求平方\n",
    "    saver=tf.train.Saver# 属于分割符 只是保存以上的代码模型\n",
    "    \n",
    "with tf.Session(graph=g) as sess:\n",
    "    optim=tf.train.GradientDescentOptimizer(learning_rate=0.01)\n",
    "    train_op=optim.minimize(loss)\n",
    "    sess.run(tf.global_variables_initializer())\n",
    "    \n",
    "    for i in range(5000):\n",
    "        bacth_img,_=mnist.train.next_batch(32)\n",
    "        res_loss,_=sess.run([loss,train_op],feed_dict={inp_out:bacth_img})\n",
    "        \n",
    "        if i %2000==0:\n",
    "            print(res_loss)\n",
    "            bacth_img,_=mnist.test.next_batch(5)\n",
    "            res_out=sess.run(out,feed_dict={inp_out:bacth_img})\n",
    "            \n",
    "            for j in range(10):\n",
    "                plt.subplot(2,5,j+1)#定义一个画布\n",
    "                img=bacth_img[j] if j<5 else res_out[j-5]\n",
    "                img=(img*255).astype(np.uint8).reshape([28,28])\n",
    "                plt.imshow(img)\n",
    "            plt.show()"
   ]
  },
  {
   "cell_type": "code",
   "execution_count": 21,
   "metadata": {},
   "outputs": [],
   "source": [
    "#3.20 稀疏自编码器\n",
    "%matplotlib inline\n",
    "#可视化在notebook中显示\n",
    "\n",
    "import numpy as np\n",
    "from PIL import Image\n",
    "from matplotlib import pyplot as plt  ##使结果可视化\n",
    "\n",
    "import tensorflow as tf\n",
    "from tensorflow.examples.tutorials.mnist import input_data\n",
    "def kl_divergence(p,p_hat,eps=1e-7):\n",
    "    p_0=tf.clip_by_value(p,eps,1)\n",
    "    p_1=tf.clip_by_value(1-p,eps,1)\n",
    "    p_hat_0=tf.clip_by_value(p_hat,eps,1)\n",
    "    p_hat_1=tf.clip_by_value(1 - p_hat,eps,1)\n",
    "    \n",
    "    res=p_0 * (tf.log(p_0) - tf.log(p_hat_0))+p_1 * (tf.log(p_hat_1))\n",
    "    res=tf.reduce_mean(res)\n",
    "    return res  "
   ]
  },
  {
   "cell_type": "code",
   "execution_count": 24,
   "metadata": {},
   "outputs": [
    {
     "name": "stdout",
     "output_type": "stream",
     "text": [
      "step     0, loss 13.5381, acc 0.0857\n",
      "step   500, loss 11.9273, acc 0.2600\n",
      "step  1000, loss 9.0020, acc 0.3770\n",
      "step  1500, loss 9.7967, acc 0.4173\n",
      "step  2000, loss 8.2689, acc 0.4640\n",
      "step  2500, loss 7.1334, acc 0.5086\n",
      "step  3000, loss 6.4750, acc 0.5494\n",
      "step  3500, loss 6.6634, acc 0.5744\n",
      "step  4000, loss 8.0755, acc 0.5851\n",
      "step  4500, loss 6.6596, acc 0.5959\n",
      "step  5000, loss 6.1129, acc 0.6002\n",
      "step  5500, loss 7.2245, acc 0.6028\n",
      "step  6000, loss 5.3751, acc 0.6078\n",
      "step  6500, loss 7.4312, acc 0.6072\n",
      "step  7000, loss 6.3738, acc 0.6085\n",
      "step  7500, loss 5.7662, acc 0.6176\n",
      "step  8000, loss 5.1323, acc 0.6161\n",
      "step  8500, loss 5.7714, acc 0.6165\n",
      "step  9000, loss 5.3439, acc 0.6194\n",
      "step  9500, loss 5.9185, acc 0.6193\n",
      "step 10000, loss 5.5130, acc 0.6197\n",
      "step 10500, loss 5.9264, acc 0.6267\n",
      "step 11000, loss 4.7191, acc 0.6439\n",
      "step 11500, loss 5.2701, acc 0.6566\n",
      "step 12000, loss 4.2136, acc 0.6747\n",
      "step 12500, loss 5.5312, acc 0.6844\n",
      "step 13000, loss 4.7496, acc 0.6943\n",
      "step 13500, loss 5.2441, acc 0.6836\n",
      "step 14000, loss 5.1938, acc 0.6955\n",
      "step 14500, loss 3.5379, acc 0.6975\n",
      "step 15000, loss 3.2710, acc 0.6971\n",
      "step 15500, loss 5.6075, acc 0.7004\n",
      "step 16000, loss 4.2824, acc 0.7008\n",
      "step 16500, loss 4.5828, acc 0.7032\n",
      "step 17000, loss 3.4539, acc 0.7016\n",
      "step 17500, loss 4.6591, acc 0.7061\n",
      "step 18000, loss 4.2874, acc 0.7023\n",
      "step 18500, loss 3.5435, acc 0.7050\n",
      "step 19000, loss 4.0504, acc 0.7087\n",
      "step 19500, loss 4.1173, acc 0.7048\n"
     ]
    }
   ],
   "source": [
    "#1.使用不同大小的批次进行实验，观察模型收敛速度与收敛平稳性。\n",
    "#batch_size为64、128\n",
    "#结论：当batch_size从32变为64，则收敛速度加快，并且最终正确率提高；64改为128正确率降低一些。\n",
    "with tf.Graph().as_default() as g:\n",
    "    # 输入、标记占位符\n",
    "    inputs = tf.placeholder(shape=[None, 784], dtype=tf.float32)\n",
    "    labels = tf.placeholder(shape=[None, 10], dtype=tf.float32)\n",
    "    \n",
    "    \n",
    "    # 创建128个隐藏层神经元参数\n",
    "    hidden_weight = tf.Variable(tf.random_normal([784, 128]), name='hidden_weight')\n",
    "    hidden_bias = tf.Variable(tf.zeros([128, ]), name='hidden_bias')\n",
    "    # 隐藏层前向传播\n",
    "    hidden_output = tf.nn.relu(tf.matmul(inputs, hidden_weight) + hidden_bias)\n",
    "    \n",
    "    \n",
    "    # 创建输出层10个神经元参数\n",
    "    output_weight = tf.Variable(tf.random_normal([128, 10], name='output_weight'))\n",
    "    output_bias = tf.Variable(tf.zeros([10, ]), name='output_bias')\n",
    "    # 输出层前向传播\n",
    "    logits = tf.matmul(hidden_output, output_weight) + output_bias\n",
    "    output = tf.nn.softmax(logits)\n",
    "    \n",
    "    \n",
    "    # 代价函数\n",
    "    loss = tf.reduce_mean(-1 * tf.reduce_sum(\n",
    "        labels * tf.log(output + 1e-7),\n",
    "        axis=1))\n",
    "    \n",
    "    \n",
    "    # 正确率\n",
    "    acc = tf.reduce_mean(\n",
    "        tf.cast(tf.equal(tf.argmax(labels, axis=1), tf.argmax(output, axis=1)),\n",
    "                tf.float32))\n",
    "\n",
    "\n",
    "with tf.Session(graph=g) as sess:\n",
    "    # 定义梯度下降法优化器\n",
    "    optim = tf.train.GradientDescentOptimizer(learning_rate=0.01)\n",
    "    train_op = optim.minimize(loss)\n",
    "    sess.run(tf.global_variables_initializer())\n",
    "    \n",
    "    # 训练模型\n",
    "    for step in range(20000):\n",
    "        batch_images, batch_labels = mnist.train.next_batch(128)\n",
    "        res_loss, _ = sess.run([loss, train_op], feed_dict={\n",
    "            inputs: batch_images,\n",
    "            labels: batch_labels\n",
    "        })\n",
    "        \n",
    "        # 输出代价并验证模型\n",
    "        if step % 500 == 0:\n",
    "            accs = []\n",
    "            for test_step in range(10000 // 128):\n",
    "                batch_images, batch_labels = mnist.test.next_batch(128)\n",
    "                res_acc = sess.run(acc, feed_dict={\n",
    "                    inputs: batch_images,\n",
    "                    labels: batch_labels\n",
    "                })\n",
    "                accs.append(res_acc)\n",
    "            accs = np.mean(accs)\n",
    "            print('step %5d, loss %2.4f, acc %.4f' % (step, res_loss, accs))"
   ]
  },
  {
   "cell_type": "code",
   "execution_count": 25,
   "metadata": {},
   "outputs": [
    {
     "name": "stdout",
     "output_type": "stream",
     "text": [
      "step     0, loss 14.2701, acc 0.0865\n",
      "step   500, loss 7.1735, acc 0.3247\n",
      "step  1000, loss 10.5775, acc 0.4289\n",
      "step  1500, loss 7.5514, acc 0.4692\n",
      "step  2000, loss 6.5461, acc 0.5106\n",
      "step  2500, loss 7.0680, acc 0.5270\n",
      "step  3000, loss 7.5531, acc 0.5548\n",
      "step  3500, loss 3.2365, acc 0.5653\n",
      "step  4000, loss 8.0595, acc 0.5761\n",
      "step  4500, loss 7.8070, acc 0.5848\n",
      "step  5000, loss 5.6884, acc 0.5865\n",
      "step  5500, loss 6.5550, acc 0.5941\n",
      "step  6000, loss 7.5990, acc 0.5918\n",
      "step  6500, loss 6.0533, acc 0.6048\n",
      "step  7000, loss 6.0444, acc 0.6029\n",
      "step  7500, loss 3.5260, acc 0.6103\n",
      "step  8000, loss 6.0460, acc 0.6086\n",
      "step  8500, loss 6.2704, acc 0.6147\n",
      "step  9000, loss 4.0295, acc 0.6109\n",
      "step  9500, loss 7.0411, acc 0.6127\n",
      "step 10000, loss 7.0517, acc 0.6170\n",
      "step 10500, loss 7.0517, acc 0.6174\n",
      "step 11000, loss 5.7712, acc 0.6164\n",
      "step 11500, loss 6.5985, acc 0.6196\n",
      "step 12000, loss 4.5332, acc 0.6208\n",
      "step 12500, loss 8.0590, acc 0.6200\n",
      "step 13000, loss 6.2819, acc 0.6222\n",
      "step 13500, loss 5.5407, acc 0.6270\n",
      "step 14000, loss 7.0516, acc 0.6255\n",
      "step 14500, loss 6.0448, acc 0.6228\n",
      "step 15000, loss 5.2504, acc 0.6265\n",
      "step 15500, loss 7.0267, acc 0.6311\n",
      "step 16000, loss 4.0295, acc 0.6231\n",
      "step 16500, loss 8.8005, acc 0.6279\n",
      "step 17000, loss 3.5419, acc 0.6282\n",
      "step 17500, loss 6.0443, acc 0.6307\n",
      "step 18000, loss 3.5259, acc 0.6271\n",
      "step 18500, loss 8.3819, acc 0.6349\n",
      "step 19000, loss 4.5332, acc 0.6329\n",
      "step 19500, loss 8.5627, acc 0.6289\n"
     ]
    }
   ],
   "source": [
    "#2.使用不同大小的学习率进行实验，观察模型收敛速度与收敛平稳性。\n",
    "#学习率为0.01、0.05、0.1、\n",
    "#结论：学习率为0.1的收敛速度明显比较快，但收敛平稳性较差\n",
    "with tf.Graph().as_default() as g:\n",
    "    # 输入、标记占位符\n",
    "    inputs = tf.placeholder(shape=[None, 784], dtype=tf.float32)\n",
    "    labels = tf.placeholder(shape=[None, 10], dtype=tf.float32)\n",
    "    \n",
    "    \n",
    "    # 创建128个隐藏层神经元参数\n",
    "    hidden_weight = tf.Variable(tf.random_normal([784, 128]), name='hidden_weight')\n",
    "    hidden_bias = tf.Variable(tf.zeros([128, ]), name='hidden_bias')\n",
    "    # 隐藏层前向传播\n",
    "    hidden_output = tf.nn.relu(tf.matmul(inputs, hidden_weight) + hidden_bias)\n",
    "    \n",
    "    \n",
    "    # 创建输出层10个神经元参数\n",
    "    output_weight = tf.Variable(tf.random_normal([128, 10], name='output_weight'))\n",
    "    output_bias = tf.Variable(tf.zeros([10, ]), name='output_bias')\n",
    "    # 输出层前向传播\n",
    "    logits = tf.matmul(hidden_output, output_weight) + output_bias\n",
    "    output = tf.nn.softmax(logits)\n",
    "    \n",
    "    \n",
    "    # 代价函数\n",
    "    loss = tf.reduce_mean(-1 * tf.reduce_sum(\n",
    "        labels * tf.log(output + 1e-7),\n",
    "        axis=1))\n",
    "    \n",
    "    \n",
    "    # 正确率\n",
    "    acc = tf.reduce_mean(\n",
    "        tf.cast(tf.equal(tf.argmax(labels, axis=1), tf.argmax(output, axis=1)),\n",
    "                tf.float32))\n",
    "\n",
    "\n",
    "with tf.Session(graph=g) as sess:\n",
    "    # 定义梯度下降法优化器\n",
    "    optim = tf.train.GradientDescentOptimizer(learning_rate=0.1)\n",
    "    train_op = optim.minimize(loss)\n",
    "    sess.run(tf.global_variables_initializer())\n",
    "    \n",
    "    # 训练模型\n",
    "    for step in range(20000):\n",
    "        batch_images, batch_labels = mnist.train.next_batch(32)\n",
    "        res_loss, _ = sess.run([loss, train_op], feed_dict={\n",
    "            inputs: batch_images,\n",
    "            labels: batch_labels\n",
    "        })\n",
    "        \n",
    "        # 输出代价并验证模型\n",
    "        if step % 500 == 0:\n",
    "            accs = []\n",
    "            for test_step in range(10000 // 32):\n",
    "                batch_images, batch_labels = mnist.test.next_batch(32)\n",
    "                res_acc = sess.run(acc, feed_dict={\n",
    "                    inputs: batch_images,\n",
    "                    labels: batch_labels\n",
    "                })\n",
    "                accs.append(res_acc)\n",
    "            accs = np.mean(accs)\n",
    "            print('step %5d, loss %2.4f, acc %.4f' % (step, res_loss, accs))"
   ]
  },
  {
   "cell_type": "code",
   "execution_count": null,
   "metadata": {},
   "outputs": [],
   "source": [
    "#3.使用不同的激活函数进行实验，观察模型收敛速度与收敛平性能。\n",
    "#使用relu和tanh激活函数， tanh函数的正确率较高、收敛速度较快，两者收敛平稳性差不多\n",
    "\n",
    "with tf.Graph().as_default() as g:\n",
    "    # 输入、标记占位符\n",
    "    inputs = tf.placeholder(shape=[None, 784], dtype=tf.float32)\n",
    "    labels = tf.placeholder(shape=[None, 10], dtype=tf.float32)\n",
    "    \n",
    "    \n",
    "    # 创建128个隐藏层神经元参数\n",
    "    hidden_weight = tf.Variable(tf.random_normal([784, 128]), name='hidden_weight')\n",
    "    hidden_bias = tf.Variable(tf.zeros([128, ]), name='hidden_bias')\n",
    "    # 隐藏层前向传播\n",
    "    #激活函数为relu\n",
    "    hidden_output = tf.nn.relu(tf.matmul(inputs, hidden_weight) + hidden_bias)\n",
    "    #激活函数为tf.nn.tanh\n",
    "    # hidden_output = tf.nn.tanh(tf.matmul(inputs, hidden_weight) + hidden_bias)\n",
    "    \n",
    "    \n",
    "    # 创建输出层10个神经元参数\n",
    "    output_weight = tf.Variable(tf.random_normal([128, 10], name='output_weight'))\n",
    "    output_bias = tf.Variable(tf.zeros([10, ]), name='output_bias')\n",
    "    # 输出层前向传播\n",
    "    logits = tf.matmul(hidden_output, output_weight) + output_bias\n",
    "    output = tf.nn.softmax(logits)\n",
    "    \n",
    "    \n",
    "    # 代价函数\n",
    "    loss = tf.reduce_mean(-1 * tf.reduce_sum(\n",
    "        labels * tf.log(output + 1e-7),\n",
    "        axis=1))\n",
    "    \n",
    "    \n",
    "    # 正确率\n",
    "    acc = tf.reduce_mean(\n",
    "        tf.cast(tf.equal(tf.argmax(labels, axis=1), tf.argmax(output, axis=1)),\n",
    "                tf.float32))\n",
    "\n",
    "\n",
    "with tf.Session(graph=g) as sess:\n",
    "    # 定义梯度下降法优化器\n",
    "    optim = tf.train.GradientDescentOptimizer(learning_rate=0.01)\n",
    "    train_op = optim.minimize(loss)\n",
    "    sess.run(tf.global_variables_initializer())\n",
    "    \n",
    "    # 训练模型\n",
    "    for step in range(20000):\n",
    "        batch_images, batch_labels = mnist.train.next_batch(32)\n",
    "        res_loss, _ = sess.run([loss, train_op], feed_dict={\n",
    "            inputs: batch_images,\n",
    "            labels: batch_labels\n",
    "        })\n",
    "        \n",
    "        # 输出代价并验证模型\n",
    "        if step % 500 == 0:\n",
    "            accs = []\n",
    "            for test_step in range(10000 // 32):\n",
    "                batch_images, batch_labels = mnist.test.next_batch(32)\n",
    "                res_acc = sess.run(acc, feed_dict={\n",
    "                    inputs: batch_images,\n",
    "                    labels: batch_labels\n",
    "                })\n",
    "                accs.append(res_acc)\n",
    "            accs = np.mean(accs)\n",
    "            print('step %5d, loss %2.4f, acc %.4f' % (step, res_loss, accs))"
   ]
  },
  {
   "cell_type": "code",
   "execution_count": null,
   "metadata": {},
   "outputs": [],
   "source": [
    "#4.不同的初始化方式\n",
    "\n",
    "with tf.Graph().as_default() as g:\n",
    "    # 输入、标记占位符\n",
    "    inputs = tf.placeholder(shape=[None, 784], dtype=tf.float32)\n",
    "    labels = tf.placeholder(shape=[None, 10], dtype=tf.float32)\n",
    "    \n",
    "    \n",
    "    # 创建128个隐藏层神经元参数\n",
    "    hidden_weight = tf.Variable(tf.random_normal([784, 128]), name='hidden_weight')\n",
    "    hidden_bias = tf.Variable(tf.zeros([128, ]), name='hidden_bias')\n",
    "    # 隐藏层前向传播\n",
    "    hidden_output = tf.nn.tanh(tf.matmul(inputs, hidden_weight) + hidden_bias)\n",
    "    \n",
    "    \n",
    "    # 创建输出层10个神经元参数 两种初始化方式 \n",
    "    #使用tf.random_uniform比tf.random_normal的正确率高，且收敛效果更平稳\n",
    "    output_weight = tf.Variable(tf.random_normal([128, 10], name='output_weight'))\n",
    "    #output_weight = tf.Variable(tf.random_uniform([128, 10], name='output_weight'))\n",
    "    output_bias = tf.Variable(tf.zeros([10, ]), name='output_bias')\n",
    "    # 输出层前向传播\n",
    "    logits = tf.matmul(hidden_output, output_weight) + output_bias\n",
    "    output = tf.nn.softmax(logits)\n",
    "    \n",
    "    \n",
    "    # 代价函数\n",
    "    loss = tf.reduce_mean(-1 * tf.reduce_sum(\n",
    "        labels * tf.log(output + 1e-7),\n",
    "        axis=1))\n",
    "    \n",
    "    \n",
    "    # 正确率\n",
    "    acc = tf.reduce_mean(\n",
    "        tf.cast(tf.equal(tf.argmax(labels, axis=1), tf.argmax(output, axis=1)),\n",
    "                tf.float32))\n",
    "\n",
    "\n",
    "with tf.Session(graph=g) as sess:\n",
    "    # 定义梯度下降法优化器\n",
    "    optim = tf.train.GradientDescentOptimizer(learning_rate=0.01)\n",
    "    train_op = optim.minimize(loss)\n",
    "    sess.run(tf.global_variables_initializer())\n",
    "    \n",
    "    # 训练模型\n",
    "    for step in range(20000):\n",
    "        batch_images, batch_labels = mnist.train.next_batch(32)\n",
    "        res_loss, _ = sess.run([loss, train_op], feed_dict={\n",
    "            inputs: batch_images,\n",
    "            labels: batch_labels\n",
    "        })\n",
    "        \n",
    "        # 输出代价并验证模型\n",
    "        if step % 500 == 0:\n",
    "            accs = []\n",
    "            for test_step in range(10000 // 32):\n",
    "                batch_images, batch_labels = mnist.test.next_batch(32)\n",
    "                res_acc = sess.run(acc, feed_dict={\n",
    "                    inputs: batch_images,\n",
    "                    labels: batch_labels\n",
    "                })\n",
    "                accs.append(res_acc)\n",
    "            accs = np.mean(accs)\n",
    "            print('step %5d, loss %2.4f, acc %.4f' % (step, res_loss, accs))"
   ]
  },
  {
   "cell_type": "code",
   "execution_count": null,
   "metadata": {},
   "outputs": [],
   "source": []
  },
  {
   "cell_type": "code",
   "execution_count": null,
   "metadata": {},
   "outputs": [],
   "source": []
  }
 ],
 "metadata": {
  "kernelspec": {
   "display_name": "Python 3",
   "language": "python",
   "name": "python3"
  },
  "language_info": {
   "codemirror_mode": {
    "name": "ipython",
    "version": 3
   },
   "file_extension": ".py",
   "mimetype": "text/x-python",
   "name": "python",
   "nbconvert_exporter": "python",
   "pygments_lexer": "ipython3",
   "version": "3.6.5"
  }
 },
 "nbformat": 4,
 "nbformat_minor": 2
}
